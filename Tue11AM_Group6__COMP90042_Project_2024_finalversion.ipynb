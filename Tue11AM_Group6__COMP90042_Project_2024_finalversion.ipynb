{
  "cells": [
    {
      "cell_type": "markdown",
      "metadata": {
        "id": "32yCsRUo8H33"
      },
      "source": [
        "# 2024 COMP90042 Project\n",
        "*Make sure you change the file name with your group id.*"
      ]
    },
    {
      "cell_type": "markdown",
      "metadata": {
        "id": "XCybYoGz8YWQ"
      },
      "source": [
        "# Readme\n",
        "*If there is something to be noted for the marker, please mention here.*\n",
        "\n",
        "*If you are planning to implement a program with Object Oriented Programming style, please put those the bottom of this ipynb file*"
      ]
    },
    {
      "cell_type": "markdown",
      "metadata": {
        "id": "6po98qVA8bJD"
      },
      "source": [
        "# 1.DataSet Processing\n",
        "(You can add as many code blocks and text blocks as you need. However, YOU SHOULD NOT MODIFY the section title)"
      ]
    },
    {
      "cell_type": "code",
      "execution_count": null,
      "metadata": {
        "colab": {
          "base_uri": "https://localhost:8080/"
        },
        "id": "qvff21Hv8zjk",
        "outputId": "689e4576-3f61-428a-81b3-bd8c53da8e1a"
      },
      "outputs": [
        {
          "name": "stdout",
          "output_type": "stream",
          "text": [
            "Requirement already satisfied: nltk in /usr/local/lib/python3.10/dist-packages (3.8.1)\n",
            "Requirement already satisfied: click in /usr/local/lib/python3.10/dist-packages (from nltk) (8.1.7)\n",
            "Requirement already satisfied: joblib in /usr/local/lib/python3.10/dist-packages (from nltk) (1.4.2)\n",
            "Requirement already satisfied: regex>=2021.8.3 in /usr/local/lib/python3.10/dist-packages (from nltk) (2023.12.25)\n",
            "Requirement already satisfied: tqdm in /usr/local/lib/python3.10/dist-packages (from nltk) (4.66.4)\n",
            "Requirement already satisfied: scikit-learn in /usr/local/lib/python3.10/dist-packages (1.2.2)\n",
            "Requirement already satisfied: numpy>=1.17.3 in /usr/local/lib/python3.10/dist-packages (from scikit-learn) (1.25.2)\n",
            "Requirement already satisfied: scipy>=1.3.2 in /usr/local/lib/python3.10/dist-packages (from scikit-learn) (1.11.4)\n",
            "Requirement already satisfied: joblib>=1.1.1 in /usr/local/lib/python3.10/dist-packages (from scikit-learn) (1.4.2)\n",
            "Requirement already satisfied: threadpoolctl>=2.0.0 in /usr/local/lib/python3.10/dist-packages (from scikit-learn) (3.5.0)\n",
            "Requirement already satisfied: torchtext in /usr/local/lib/python3.10/dist-packages (0.18.0)\n",
            "Requirement already satisfied: tqdm in /usr/local/lib/python3.10/dist-packages (from torchtext) (4.66.4)\n",
            "Requirement already satisfied: requests in /usr/local/lib/python3.10/dist-packages (from torchtext) (2.31.0)\n",
            "Requirement already satisfied: torch>=2.3.0 in /usr/local/lib/python3.10/dist-packages (from torchtext) (2.3.0+cu121)\n",
            "Requirement already satisfied: numpy in /usr/local/lib/python3.10/dist-packages (from torchtext) (1.25.2)\n",
            "Requirement already satisfied: filelock in /usr/local/lib/python3.10/dist-packages (from torch>=2.3.0->torchtext) (3.14.0)\n",
            "Requirement already satisfied: typing-extensions>=4.8.0 in /usr/local/lib/python3.10/dist-packages (from torch>=2.3.0->torchtext) (4.11.0)\n",
            "Requirement already satisfied: sympy in /usr/local/lib/python3.10/dist-packages (from torch>=2.3.0->torchtext) (1.12)\n",
            "Requirement already satisfied: networkx in /usr/local/lib/python3.10/dist-packages (from torch>=2.3.0->torchtext) (3.3)\n",
            "Requirement already satisfied: jinja2 in /usr/local/lib/python3.10/dist-packages (from torch>=2.3.0->torchtext) (3.1.4)\n",
            "Requirement already satisfied: fsspec in /usr/local/lib/python3.10/dist-packages (from torch>=2.3.0->torchtext) (2023.6.0)\n",
            "Collecting nvidia-cuda-nvrtc-cu12==12.1.105 (from torch>=2.3.0->torchtext)\n",
            "  Using cached nvidia_cuda_nvrtc_cu12-12.1.105-py3-none-manylinux1_x86_64.whl (23.7 MB)\n",
            "Collecting nvidia-cuda-runtime-cu12==12.1.105 (from torch>=2.3.0->torchtext)\n",
            "  Using cached nvidia_cuda_runtime_cu12-12.1.105-py3-none-manylinux1_x86_64.whl (823 kB)\n",
            "Collecting nvidia-cuda-cupti-cu12==12.1.105 (from torch>=2.3.0->torchtext)\n",
            "  Using cached nvidia_cuda_cupti_cu12-12.1.105-py3-none-manylinux1_x86_64.whl (14.1 MB)\n",
            "Collecting nvidia-cudnn-cu12==8.9.2.26 (from torch>=2.3.0->torchtext)\n",
            "  Using cached nvidia_cudnn_cu12-8.9.2.26-py3-none-manylinux1_x86_64.whl (731.7 MB)\n",
            "Collecting nvidia-cublas-cu12==12.1.3.1 (from torch>=2.3.0->torchtext)\n",
            "  Using cached nvidia_cublas_cu12-12.1.3.1-py3-none-manylinux1_x86_64.whl (410.6 MB)\n",
            "Collecting nvidia-cufft-cu12==11.0.2.54 (from torch>=2.3.0->torchtext)\n",
            "  Using cached nvidia_cufft_cu12-11.0.2.54-py3-none-manylinux1_x86_64.whl (121.6 MB)\n",
            "Collecting nvidia-curand-cu12==10.3.2.106 (from torch>=2.3.0->torchtext)\n",
            "  Using cached nvidia_curand_cu12-10.3.2.106-py3-none-manylinux1_x86_64.whl (56.5 MB)\n",
            "Collecting nvidia-cusolver-cu12==11.4.5.107 (from torch>=2.3.0->torchtext)\n",
            "  Using cached nvidia_cusolver_cu12-11.4.5.107-py3-none-manylinux1_x86_64.whl (124.2 MB)\n",
            "Collecting nvidia-cusparse-cu12==12.1.0.106 (from torch>=2.3.0->torchtext)\n",
            "  Using cached nvidia_cusparse_cu12-12.1.0.106-py3-none-manylinux1_x86_64.whl (196.0 MB)\n",
            "Collecting nvidia-nccl-cu12==2.20.5 (from torch>=2.3.0->torchtext)\n",
            "  Using cached nvidia_nccl_cu12-2.20.5-py3-none-manylinux2014_x86_64.whl (176.2 MB)\n",
            "Collecting nvidia-nvtx-cu12==12.1.105 (from torch>=2.3.0->torchtext)\n",
            "  Using cached nvidia_nvtx_cu12-12.1.105-py3-none-manylinux1_x86_64.whl (99 kB)\n",
            "Requirement already satisfied: triton==2.3.0 in /usr/local/lib/python3.10/dist-packages (from torch>=2.3.0->torchtext) (2.3.0)\n",
            "Collecting nvidia-nvjitlink-cu12 (from nvidia-cusolver-cu12==11.4.5.107->torch>=2.3.0->torchtext)\n",
            "  Downloading nvidia_nvjitlink_cu12-12.5.40-py3-none-manylinux2014_x86_64.whl (21.3 MB)\n",
            "\u001b[2K     \u001b[90m━━━━━━━━━━━━━━━━━━━━━━━━━━━━━━━━━━━━━━━━\u001b[0m \u001b[32m21.3/21.3 MB\u001b[0m \u001b[31m57.0 MB/s\u001b[0m eta \u001b[36m0:00:00\u001b[0m\n",
            "\u001b[?25hRequirement already satisfied: charset-normalizer<4,>=2 in /usr/local/lib/python3.10/dist-packages (from requests->torchtext) (3.3.2)\n",
            "Requirement already satisfied: idna<4,>=2.5 in /usr/local/lib/python3.10/dist-packages (from requests->torchtext) (3.7)\n",
            "Requirement already satisfied: urllib3<3,>=1.21.1 in /usr/local/lib/python3.10/dist-packages (from requests->torchtext) (2.0.7)\n",
            "Requirement already satisfied: certifi>=2017.4.17 in /usr/local/lib/python3.10/dist-packages (from requests->torchtext) (2024.2.2)\n",
            "Requirement already satisfied: MarkupSafe>=2.0 in /usr/local/lib/python3.10/dist-packages (from jinja2->torch>=2.3.0->torchtext) (2.1.5)\n",
            "Requirement already satisfied: mpmath>=0.19 in /usr/local/lib/python3.10/dist-packages (from sympy->torch>=2.3.0->torchtext) (1.3.0)\n",
            "Installing collected packages: nvidia-nvtx-cu12, nvidia-nvjitlink-cu12, nvidia-nccl-cu12, nvidia-curand-cu12, nvidia-cufft-cu12, nvidia-cuda-runtime-cu12, nvidia-cuda-nvrtc-cu12, nvidia-cuda-cupti-cu12, nvidia-cublas-cu12, nvidia-cusparse-cu12, nvidia-cudnn-cu12, nvidia-cusolver-cu12\n",
            "Successfully installed nvidia-cublas-cu12-12.1.3.1 nvidia-cuda-cupti-cu12-12.1.105 nvidia-cuda-nvrtc-cu12-12.1.105 nvidia-cuda-runtime-cu12-12.1.105 nvidia-cudnn-cu12-8.9.2.26 nvidia-cufft-cu12-11.0.2.54 nvidia-curand-cu12-10.3.2.106 nvidia-cusolver-cu12-11.4.5.107 nvidia-cusparse-cu12-12.1.0.106 nvidia-nccl-cu12-2.20.5 nvidia-nvjitlink-cu12-12.5.40 nvidia-nvtx-cu12-12.1.105\n"
          ]
        }
      ],
      "source": [
        "!pip install nltk\n",
        "!pip install scikit-learn\n",
        "!pip install torchtext"
      ]
    },
    {
      "cell_type": "code",
      "execution_count": 13,
      "metadata": {
        "colab": {
          "base_uri": "https://localhost:8080/"
        },
        "id": "pkmQ-1r-Wu53",
        "outputId": "d818bfa2-645b-4b3e-9e61-037d00c4b5db"
      },
      "outputs": [
        {
          "name": "stdout",
          "output_type": "stream",
          "text": [
            "Mounted at /content/drive\n",
            "Current Working Directory:  /content/drive/My Drive/NLP Project\n"
          ]
        }
      ],
      "source": [
        "import os\n",
        "from google.colab import drive\n",
        "drive.mount('/content/drive')\n",
        "folder_path = '/content/drive/My Drive/NLP Project'\n",
        "os.chdir(folder_path)\n",
        "\n",
        "print(\"Current Working Directory: \", os.getcwd())"
      ]
    },
    {
      "cell_type": "code",
      "execution_count": 2,
      "metadata": {
        "id": "N3jQmZjghCuN"
      },
      "outputs": [],
      "source": [
        "import random\n",
        "import torch.optim as optim\n",
        "import os\n",
        "from tqdm import tqdm\n",
        "import numpy as np\n",
        "import math\n",
        "import torch\n",
        "import torch.nn as nn\n",
        "import torch.nn.functional as F\n",
        "from torch.nn import TransformerEncoder, TransformerEncoderLayer\n",
        "from torch.utils.data import Dataset\n",
        "\n",
        "from torch.utils.data import DataLoader"
      ]
    },
    {
      "cell_type": "code",
      "execution_count": 14,
      "metadata": {
        "id": "rsWgUT6ahCuN"
      },
      "outputs": [],
      "source": [
        "import json\n",
        "device = torch.device(\"cuda\" if torch.cuda.is_available() else \"cpu\")\n",
        "train_claims = json.load(open(\"train-claims.json\", \"r\"))\n",
        "dev_claims = json.load(open(\"dev-claims.json\", \"r\"))\n",
        "test_claims = json.load(open(\"test-claims-unlabelled.json\", \"r\"))\n",
        "evidences = json.load(open(\"evidence.json\", \"r\"))"
      ]
    },
    {
      "cell_type": "code",
      "execution_count": 15,
      "metadata": {
        "colab": {
          "base_uri": "https://localhost:8080/"
        },
        "id": "V-En3ELTJIM8",
        "outputId": "211fe1d7-6a80-4c82-9be9-6a9e647c63b4"
      },
      "outputs": [
        {
          "name": "stdout",
          "output_type": "stream",
          "text": [
            "cuda\n"
          ]
        }
      ],
      "source": [
        "print(device)"
      ]
    },
    {
      "cell_type": "code",
      "execution_count": 16,
      "metadata": {
        "colab": {
          "base_uri": "https://localhost:8080/"
        },
        "id": "sWbixNL5hCuN",
        "outputId": "b93f03ef-4ed9-49b0-dfce-14230b8dd6ef"
      },
      "outputs": [
        {
          "name": "stderr",
          "output_type": "stream",
          "text": [
            "[nltk_data] Downloading package stopwords to /root/nltk_data...\n",
            "[nltk_data]   Unzipping corpora/stopwords.zip.\n"
          ]
        }
      ],
      "source": [
        "import nltk\n",
        "from nltk.tokenize import TweetTokenizer\n",
        "from nltk.corpus import stopwords\n",
        "from nltk.corpus import wordnet\n",
        "import re\n",
        "nltk.download('stopwords')\n",
        "lemmatizer = nltk.stem.wordnet.WordNetLemmatizer()\n",
        "\n",
        "def lemmatize(word):\n",
        "    lemma = lemmatizer.lemmatize(word,'v')\n",
        "    if lemma == word:\n",
        "        lemma = lemmatizer.lemmatize(word,'n')\n",
        "    return lemma\n",
        "\n",
        "tt = TweetTokenizer()\n",
        "stopwords = set(stopwords.words('english')) #note: stopwords are all in lowercase\n",
        "\n",
        "def preprocess_data(data):\n",
        "    data = data.lower()\n",
        "    tokenized_words= tt.tokenize(data) #tokenized\n",
        "    remove_nonEnglish_data = [token for token in tokenized_words if re.search('[a-z]',token)]\n",
        "    remove_stopword = [token for token in remove_nonEnglish_data if token not in stopwords] #remove stopword\n",
        "    lemmatized = [lemmatize(token) for token in remove_stopword]\n",
        "\n",
        "    sentence = \" \".join(lemmatized)\n",
        "    return sentence"
      ]
    },
    {
      "cell_type": "code",
      "execution_count": 17,
      "metadata": {
        "colab": {
          "base_uri": "https://localhost:8080/"
        },
        "id": "ABNcfAYdhCuN",
        "outputId": "c00aedf7-3d0d-47f8-df84-fbbc7b03288f"
      },
      "outputs": [
        {
          "name": "stderr",
          "output_type": "stream",
          "text": [
            "[nltk_data] Downloading package wordnet to /root/nltk_data...\n"
          ]
        }
      ],
      "source": [
        "nltk.download('wordnet')\n",
        "def obtain_claim (data):\n",
        "    claims_id = []\n",
        "    claims_text = []\n",
        "    claims_label = []\n",
        "    claims_evidence = []\n",
        "    for key, value in data.items():\n",
        "        claims_id.append(key)\n",
        "        claims_text.append(preprocess_data(value[\"claim_text\"]))\n",
        "        claims_label.append(value[\"claim_label\"])\n",
        "        claims_evidence.append([evidence for evidence in value[\"evidences\"]])\n",
        "    return claims_id, claims_text, claims_label, claims_evidence\n",
        "\n",
        "evidence_text = []\n",
        "evidence_id = []\n",
        "for key, value in evidences.items():\n",
        "    processed = preprocess_data(value)\n",
        "    evidence_text.append(processed)\n",
        "    evidence_id.append(key)\n",
        "\n",
        "dev_claims_id, dev_claims_text, dev_claims_label, dev_claims_evidence = obtain_claim(dev_claims)\n",
        "train_claims_id, train_claims_text, train_claims_label, train_claims_evidence = obtain_claim(train_claims)\n",
        "\n",
        "test_claims_id = []\n",
        "test_claims_text = []\n",
        "for key, value in test_claims.items():\n",
        "    test_claims_id.append(key)\n",
        "    test_claims_text.append(preprocess_data(value[\"claim_text\"]))"
      ]
    },
    {
      "cell_type": "code",
      "execution_count": 18,
      "metadata": {
        "id": "N3A1Je1C21hU"
      },
      "outputs": [],
      "source": [
        "def obtain_evidence_id (data):\n",
        "    idlist = []\n",
        "    for evidences in data:\n",
        "        idlist.append([int(evidence.split('-')[1]) for evidence in evidences])\n",
        "    return idlist"
      ]
    },
    {
      "cell_type": "code",
      "execution_count": 19,
      "metadata": {
        "id": "l9ljHr7m22HS"
      },
      "outputs": [],
      "source": [
        "train_claims_evidence_id = obtain_evidence_id(train_claims_evidence)\n",
        "dev_claims_evidence_id = obtain_evidence_id(dev_claims_evidence)"
      ]
    },
    {
      "cell_type": "code",
      "execution_count": 20,
      "metadata": {
        "id": "vSfRcwaXhCuN"
      },
      "outputs": [],
      "source": [
        "from sklearn.feature_extraction.text import TfidfVectorizer\n",
        "\n",
        "vectorizer = TfidfVectorizer()\n",
        "vectorizer.fit(evidence_text)\n",
        "evidence_matrix = vectorizer.transform(evidence_text)\n",
        "train_text_matrix = vectorizer.transform(train_claims_text)\n",
        "dev_text_matrix = vectorizer.transform(dev_claims_text)\n",
        "test_text_matrix = vectorizer.transform(test_claims_text)"
      ]
    },
    {
      "cell_type": "code",
      "execution_count": 21,
      "metadata": {
        "id": "DtQoWgE_hCuN"
      },
      "outputs": [],
      "source": [
        "from sklearn.metrics.pairwise import cosine_similarity\n",
        "similarity_dev = cosine_similarity(dev_text_matrix, evidence_matrix)\n",
        "similarity_test = cosine_similarity(test_text_matrix, evidence_matrix)"
      ]
    },
    {
      "cell_type": "code",
      "execution_count": 22,
      "metadata": {
        "id": "Z9ERAhMm3cSR"
      },
      "outputs": [],
      "source": [
        "import numpy as np\n",
        "\n",
        "def obtain_relevent_evidence_id (similarity):\n",
        "    res = []\n",
        "    for i in range(len(similarity)):\n",
        "        #select the top 1000 related evidence\n",
        "        sorted_indices = np.argsort(similarity[i])[::-1].tolist()[:100]\n",
        "        res.append(sorted_indices)\n",
        "    return res"
      ]
    },
    {
      "cell_type": "code",
      "execution_count": 23,
      "metadata": {
        "id": "gL-KwsGVlCHo"
      },
      "outputs": [],
      "source": [
        "def compute_similarity_in_chunks(train_text_matrix, evidence_matrix, chunk_size=100):\n",
        "    n_samples_train = train_text_matrix.shape[0]\n",
        "    n_samples_evidence = evidence_matrix.shape[0]\n",
        "\n",
        "    similarity_matrix = np.zeros((n_samples_train, n_samples_evidence))\n",
        "\n",
        "    for start_idx in range(0, n_samples_train, chunk_size):\n",
        "        end_idx = min(start_idx + chunk_size, n_samples_train)\n",
        "        train_batch = train_text_matrix[start_idx:end_idx, :]\n",
        "        similarity_batch = cosine_similarity(train_batch, evidence_matrix)\n",
        "        similarity_matrix[start_idx:end_idx, :] = similarity_batch\n",
        "\n",
        "    return similarity_matrix"
      ]
    },
    {
      "cell_type": "code",
      "execution_count": 24,
      "metadata": {
        "id": "FELjo-rE4oiW"
      },
      "outputs": [],
      "source": [
        "train_claims_relevent_evidence_id = []\n",
        "for i in range(6):\n",
        "  similarity_train = compute_similarity_in_chunks(train_text_matrix[i * 200 : (i + 1) * 200], evidence_matrix)\n",
        "  train_claims_relevent_evidence_id += obtain_relevent_evidence_id (similarity_train)\n",
        "similarity_train = compute_similarity_in_chunks(train_text_matrix[1200:], evidence_matrix)\n",
        "train_claims_relevent_evidence_id += obtain_relevent_evidence_id (similarity_train)\n",
        "del similarity_train"
      ]
    },
    {
      "cell_type": "code",
      "execution_count": 25,
      "metadata": {
        "id": "mzGjuYie7-RF"
      },
      "outputs": [],
      "source": [
        "dev_claims_relevent_evidence_id = obtain_relevent_evidence_id (similarity_dev)\n",
        "test_claims_relevent_evidence_id = obtain_relevent_evidence_id (similarity_test)"
      ]
    },
    {
      "cell_type": "code",
      "execution_count": 26,
      "metadata": {
        "id": "z88MWtuKhCuO"
      },
      "outputs": [],
      "source": [
        "# obtain claim without tokenized and other preprosessing\n",
        "def obtain_original_claim (data):\n",
        "    claims_text = []\n",
        "    for key, value in data.items():\n",
        "        claims_text.append(value[\"claim_text\"])\n",
        "    return claims_text\n",
        "original_train_claims = obtain_original_claim(train_claims)\n",
        "original_dev_claims = obtain_original_claim(dev_claims)\n",
        "original_test_claims = obtain_original_claim(test_claims)\n",
        "original_evidence = []\n",
        "for key,value in evidences.items():\n",
        "    original_evidence.append(value)"
      ]
    },
    {
      "cell_type": "code",
      "execution_count": 27,
      "metadata": {
        "colab": {
          "base_uri": "https://localhost:8080/"
        },
        "id": "1Izs2OW_hCuO",
        "outputId": "36c7d500-f964-4c6a-fa0d-9c7f67533e73"
      },
      "outputs": [
        {
          "name": "stderr",
          "output_type": "stream",
          "text": [
            "/usr/local/lib/python3.10/dist-packages/torchtext/vocab/__init__.py:4: UserWarning: \n",
            "/!\\ IMPORTANT WARNING ABOUT TORCHTEXT STATUS /!\\ \n",
            "Torchtext is deprecated and the last released version will be 0.18 (this one). You can silence this warning by calling the following at the beginnign of your scripts: `import torchtext; torchtext.disable_torchtext_deprecation_warning()`\n",
            "  warnings.warn(torchtext._TORCHTEXT_DEPRECATION_MSG)\n",
            "/usr/local/lib/python3.10/dist-packages/torchtext/utils.py:4: UserWarning: \n",
            "/!\\ IMPORTANT WARNING ABOUT TORCHTEXT STATUS /!\\ \n",
            "Torchtext is deprecated and the last released version will be 0.18 (this one). You can silence this warning by calling the following at the beginnign of your scripts: `import torchtext; torchtext.disable_torchtext_deprecation_warning()`\n",
            "  warnings.warn(torchtext._TORCHTEXT_DEPRECATION_MSG)\n",
            "/usr/local/lib/python3.10/dist-packages/torchtext/data/__init__.py:4: UserWarning: \n",
            "/!\\ IMPORTANT WARNING ABOUT TORCHTEXT STATUS /!\\ \n",
            "Torchtext is deprecated and the last released version will be 0.18 (this one). You can silence this warning by calling the following at the beginnign of your scripts: `import torchtext; torchtext.disable_torchtext_deprecation_warning()`\n",
            "  warnings.warn(torchtext._TORCHTEXT_DEPRECATION_MSG)\n"
          ]
        }
      ],
      "source": [
        "from torchtext.vocab import build_vocab_from_iterator\n",
        "from torchtext.data.utils import get_tokenizer\n",
        "\n",
        "tokenizer = get_tokenizer(\"basic_english\")\n",
        "\n",
        "def yield_tokens(texts):\n",
        "    for text in texts:\n",
        "        yield tokenizer(text)\n",
        "\n",
        "# create vocab dict, only word which appeared >= 5 will counted otherwise treat as unknown\n",
        "vocab = build_vocab_from_iterator(yield_tokens(evidence_text), specials=('<unk>', '<pad>', '<cls>'), min_freq = 10)\n",
        "\n",
        "# create vocab_cls using unprocessed evidence texts\n",
        "vocab_cls = build_vocab_from_iterator(yield_tokens(original_evidence), specials=('<unk>', '<pad>', '<cls>', '<sep>'), min_freq = 10)\n",
        "\n",
        "vocab.set_default_index(vocab[\"<unk>\"])\n",
        "vocab_cls.set_default_index(vocab[\"<unk>\"])\n",
        "padding_index = vocab[\"<pad>\"]\n",
        "cls_index = vocab[\"<cls>\"]\n",
        "sep_index = vocab[\"<sep>\"]"
      ]
    },
    {
      "cell_type": "code",
      "execution_count": 28,
      "metadata": {
        "colab": {
          "base_uri": "https://localhost:8080/"
        },
        "id": "EXIxDGY1hCuO",
        "outputId": "06c110cc-c39c-46f2-99be-03a5c772dc9c"
      },
      "outputs": [
        {
          "name": "stdout",
          "output_type": "stream",
          "text": [
            "53039\n",
            "66446\n"
          ]
        }
      ],
      "source": [
        "# vocab dict size\n",
        "print(len(vocab))\n",
        "print(len(vocab_cls))"
      ]
    },
    {
      "cell_type": "code",
      "execution_count": 29,
      "metadata": {
        "id": "xnJpy1v4hCuO"
      },
      "outputs": [],
      "source": [
        "def convert_word_to_idx (data, vocab_dict):\n",
        "    res = []\n",
        "    for sentence in data:\n",
        "        indices = [vocab_dict[token] for token in tokenizer(sentence)]\n",
        "        res.append(indices)\n",
        "    return res"
      ]
    },
    {
      "cell_type": "code",
      "execution_count": 30,
      "metadata": {
        "id": "9SAokC3GhCuO"
      },
      "outputs": [],
      "source": [
        "# convert token into idx, using processed data in retrieval later\n",
        "train_claims_text_idx = convert_word_to_idx(train_claims_text, vocab)\n",
        "dev_claims_text_idx = convert_word_to_idx(dev_claims_text, vocab)\n",
        "test_claims_text_idx = convert_word_to_idx(test_claims_text, vocab)\n",
        "evidence_text_idx = convert_word_to_idx(evidence_text, vocab)\n"
      ]
    },
    {
      "cell_type": "code",
      "execution_count": 31,
      "metadata": {
        "id": "NPC5tl9D9gXI"
      },
      "outputs": [],
      "source": [
        "# convert token into idx, using unprocessed data in classification later\n",
        "train_claims_origianl_text_idx = convert_word_to_idx(original_train_claims, vocab_cls)\n",
        "dev_claims_origianl_text_idx = convert_word_to_idx(original_dev_claims, vocab_cls)\n",
        "test_claims_origianl_text_idx = convert_word_to_idx(original_test_claims, vocab_cls)\n",
        "evidence_origianl_text_idx = convert_word_to_idx(original_evidence, vocab_cls)"
      ]
    },
    {
      "cell_type": "code",
      "execution_count": 32,
      "metadata": {
        "colab": {
          "base_uri": "https://localhost:8080/"
        },
        "id": "lqC-WokbhCuO",
        "outputId": "0f6289b7-dd95-4cdf-e250-0c6fca72397f"
      },
      "outputs": [
        {
          "name": "stdout",
          "output_type": "stream",
          "text": [
            "mean length of train claims: 11.862377850162867\n",
            "mean length of dev claims: 12.474025974025974\n",
            "mean length of test claims: 11.660130718954248\n",
            "mean length of evidence: 11.273384032620053\n",
            "\n",
            "mean length of original train claims: 22.43241042345277\n",
            "mean length of original dev claims: 23.31168831168831\n",
            "mean length of original test claims: 22.398692810457515\n",
            "mean length of original evidence: 22.739117342680135\n"
          ]
        }
      ],
      "source": [
        "def cal_average_len(data):\n",
        "    total_length = sum(len(sentence) for sentence in data)\n",
        "    return total_length / len(data)\n",
        "\n",
        "print(\"mean length of train claims:\", cal_average_len(train_claims_text_idx))\n",
        "print(\"mean length of dev claims:\", cal_average_len(dev_claims_text_idx))\n",
        "print(\"mean length of test claims:\", cal_average_len(test_claims_text_idx))\n",
        "print(\"mean length of evidence:\", cal_average_len(evidence_text_idx))\n",
        "print()\n",
        "print(\"mean length of original train claims:\", cal_average_len(train_claims_origianl_text_idx))\n",
        "print(\"mean length of original dev claims:\", cal_average_len(dev_claims_origianl_text_idx))\n",
        "print(\"mean length of original test claims:\", cal_average_len(test_claims_origianl_text_idx))\n",
        "print(\"mean length of original evidence:\", cal_average_len(evidence_origianl_text_idx))"
      ]
    },
    {
      "cell_type": "code",
      "execution_count": 33,
      "metadata": {
        "id": "MwMN4rwfhCuO"
      },
      "outputs": [],
      "source": [
        "#construct input for retrieval\n",
        "padded_claims_length = 25\n",
        "padded_evidence_length = 25\n",
        "def construct_input(data, padded_sentence_length):\n",
        "    res = []\n",
        "    for sentence in data:\n",
        "        if len(sentence) < padded_sentence_length:\n",
        "            res.append([vocab[\"<cls>\"]] + sentence + [vocab[\"<pad>\"]] * (padded_sentence_length - len(sentence)))\n",
        "        else:\n",
        "            res.append([vocab[\"<cls>\"]] + sentence[:padded_sentence_length])\n",
        "    return res\n",
        "\n",
        "train_input = construct_input(train_claims_text_idx, padded_claims_length)\n",
        "dev_input = construct_input(dev_claims_text_idx, padded_claims_length)\n",
        "test_input = construct_input(test_claims_text_idx, padded_claims_length)\n",
        "evidence_input = construct_input(evidence_text_idx, padded_evidence_length)"
      ]
    },
    {
      "cell_type": "code",
      "execution_count": 34,
      "metadata": {
        "id": "KfX8lcoahCuO"
      },
      "outputs": [],
      "source": [
        "#construct input for classification\n",
        "padded_claims_length_cls = 50\n",
        "padded_evidence_length_cls = 50\n",
        "\n",
        "train_input_cls = construct_input(train_claims_origianl_text_idx, padded_claims_length_cls)\n",
        "dev_input_cls = construct_input(dev_claims_origianl_text_idx, padded_claims_length_cls)\n",
        "test_input_cls = construct_input(test_claims_origianl_text_idx, padded_claims_length_cls)\n",
        "evidence_input_cls = construct_input(evidence_origianl_text_idx, padded_evidence_length_cls)"
      ]
    },
    {
      "cell_type": "code",
      "execution_count": 35,
      "metadata": {
        "colab": {
          "base_uri": "https://localhost:8080/"
        },
        "id": "MeIuAaBf_bl4",
        "outputId": "fa59759c-efda-4b06-bf1d-02c78569f65e"
      },
      "outputs": [
        {
          "data": {
            "text/plain": [
              "0"
            ]
          },
          "execution_count": 35,
          "metadata": {},
          "output_type": "execute_result"
        }
      ],
      "source": [
        "import gc\n",
        "del evidence_text, dev_claims_text, train_claims_text, test_claims_text, original_train_claims, original_dev_claims, original_test_claims, original_evidence, train_claims_text_idx, dev_claims_text_idx, test_claims_text_idx, evidence_text_idx\n",
        "gc.collect()"
      ]
    },
    {
      "cell_type": "code",
      "execution_count": 36,
      "metadata": {
        "colab": {
          "base_uri": "https://localhost:8080/"
        },
        "id": "pw6g5xAihCuO",
        "outputId": "bfdd02c4-ce16-4c6b-c66b-b97ca310b0a4"
      },
      "outputs": [
        {
          "name": "stderr",
          "output_type": "stream",
          "text": [
            "/usr/local/lib/python3.10/dist-packages/torch/utils/data/dataloader.py:558: UserWarning: This DataLoader will create 5 worker processes in total. Our suggested max number of worker in current system is 2, which is smaller than what this DataLoader is going to create. Please be aware that excessive worker creation might get DataLoader running slow or even freeze, lower the worker number to avoid potential slowness/freeze if necessary.\n",
            "  warnings.warn(_create_warning_msg(\n"
          ]
        }
      ],
      "source": [
        "from torch.utils.data import Dataset\n",
        "from torch.utils.data import DataLoader\n",
        "import torch\n",
        "\n",
        "# dataset for evidence retrieval\n",
        "class CustomDataset(Dataset):\n",
        "    def __init__(self, _input, correct_evidence_id, relevent_evidences_id, incorrect_evidenct_num):\n",
        "        self._input = _input\n",
        "        self.correct_evidence_id = correct_evidence_id\n",
        "        self.relevent_evidences_id = relevent_evidences_id\n",
        "        self.incorrect_evidenct_num = incorrect_evidenct_num\n",
        "        self._len = len(self._input)\n",
        "\n",
        "    def __len__(self):\n",
        "        return self._len\n",
        "\n",
        "    def __getitem__(self, idx):\n",
        "        return [self._input[idx], self.relevent_evidences_id[idx][100 - self.incorrect_evidenct_num:], self.correct_evidence_id[idx]]\n",
        "\n",
        "def collate_batch(batch):\n",
        "    claims = []\n",
        "    evidences_id = []\n",
        "    correct_evidences_id = []\n",
        "\n",
        "    for claim, relevent_evidence, correct_evidence in batch:\n",
        "        claims.append(claim)\n",
        "        correct_evidences_id.append(correct_evidence)\n",
        "        evidences_id.extend(relevent_evidence + correct_evidence)\n",
        "\n",
        "    #remove duplicate\n",
        "    evidences_id = list(set(evidences_id))\n",
        "\n",
        "\n",
        "    evidences_to_inner_id = {j: idx for idx, j in enumerate(evidences_id)}\n",
        "    correct_evidences_inner_id = [[evidences_to_inner_id[j] for j in idx] for idx in correct_evidences_id]\n",
        "\n",
        "    evidences = [evidence_input[idx] for idx in evidences_id]\n",
        "\n",
        "    batch_encoded = {}\n",
        "    batch_encoded[\"claims\"] = torch.LongTensor(claims)\n",
        "    batch_encoded[\"evidences\"] = torch.LongTensor(evidences)\n",
        "    batch_encoded[\"correct_evidences_inner_id\"] = correct_evidences_inner_id\n",
        "\n",
        "    return batch_encoded\n",
        "\n",
        "train_dataset = CustomDataset(train_input, train_claims_evidence_id, train_claims_relevent_evidence_id, 10)\n",
        "\n",
        "dataloader = DataLoader(train_dataset, batch_size=5, shuffle=True, num_workers=5, collate_fn = collate_batch)"
      ]
    },
    {
      "cell_type": "code",
      "execution_count": 37,
      "metadata": {
        "id": "5b_jpBYghCuO"
      },
      "outputs": [],
      "source": [
        "def mapping_index(indices):\n",
        "    label_mapping = {\n",
        "        0: 'SUPPORTS',\n",
        "        1: 'REFUTES',\n",
        "        2: 'NOT_ENOUGH_INFO',\n",
        "        3: 'DISPUTED'\n",
        "    }\n",
        "    return [label_mapping[int(index)] for index in indices]\n",
        "\n",
        "\n",
        "def mapping_string(string):\n",
        "    if string == 'SUPPORTS':\n",
        "        return 0\n",
        "    if string == 'REFUTES':\n",
        "        return 1\n",
        "    if string == 'NOT_ENOUGH_INFO':\n",
        "        return 2\n",
        "    if string == 'DISPUTED':\n",
        "        return 3"
      ]
    },
    {
      "cell_type": "code",
      "execution_count": 38,
      "metadata": {
        "id": "AUoCl7TFhCuO"
      },
      "outputs": [],
      "source": [
        "from torch.utils.data import Dataset\n",
        "import random\n",
        "\n",
        "# dataset for classification\n",
        "class TrainDataset(Dataset):\n",
        "    def __init__(self, claims_text, positive_evidences_id, cls_label):\n",
        "        self.claims_text = claims_text\n",
        "        self.positive_evidences_id = positive_evidences_id\n",
        "        self.cls_label = cls_label\n",
        "        self.text_length = len(claims_text[0])\n",
        "\n",
        "    def __len__(self):\n",
        "        return len(self.claims_text)\n",
        "\n",
        "    def __getitem__(self, idx):\n",
        "        return [self.claims_text[idx][:self.text_length], self.positive_evidences_id[idx], self.cls_label[idx]]\n",
        "\n",
        "# For one claim, combine the claim texts and 5 evidence texts as a list, repeat for all claims in batch and return a [[]].\n",
        "def collate_batch_CLS(batch):\n",
        "    queries = []\n",
        "    labels = []\n",
        "\n",
        "    for claim_texts, positive_evidences_id, label in batch:\n",
        "        # add cls to the front of texts denote start\n",
        "        temp_text = [vocab_cls[\"<cls>\"]]\n",
        "        temp_text.extend(claim_texts)\n",
        "\n",
        "        if len(positive_evidences_id) > 5:\n",
        "            for i in range(5):\n",
        "                temp_text.extend(evidence_input_cls[positive_evidences_id[i]])\n",
        "        else:\n",
        "            for i in positive_evidences_id:\n",
        "                temp_text.extend(evidence_input_cls[i])\n",
        "            # add padding to make up 5 * evidence length\n",
        "            padding_needed = (5 - len(positive_evidences_id)) * padded_evidence_length_cls\n",
        "            temp_text.extend([vocab_cls[\"<pad>\"]] * padding_needed)\n",
        "\n",
        "        # add sep to the end of texts denote finish\n",
        "        temp_text.extend([vocab_cls[\"<sep>\"]])\n",
        "\n",
        "        queries.append(temp_text)\n",
        "        labels.append(mapping_string(label))\n",
        "\n",
        "\n",
        "    max_length = max(len(q) for q in queries)\n",
        "    queries_padded = [q + [vocab_cls[\"<pad>\"]] * (max_length - len(q)) for q in queries]\n",
        "\n",
        "    batch_encoding = {}\n",
        "    batch_encoding[\"queries\"] = torch.LongTensor(queries_padded)\n",
        "    batch_encoding[\"labels\"] = torch.LongTensor(labels)\n",
        "\n",
        "    return batch_encoding"
      ]
    },
    {
      "cell_type": "markdown",
      "metadata": {
        "id": "1FA2ao2l8hOg"
      },
      "source": [
        "# 2. Model Implementation\n",
        "(You can add as many code blocks and text blocks as you need. However, YOU SHOULD NOT MODIFY the section title)"
      ]
    },
    {
      "cell_type": "markdown",
      "metadata": {
        "id": "UdGCi0pWhCuP"
      },
      "source": [
        "2.1. Retrieval Model"
      ]
    },
    {
      "cell_type": "code",
      "execution_count": 39,
      "metadata": {
        "id": "QIEqDDT78q39"
      },
      "outputs": [],
      "source": [
        "# tut8\n",
        "import math\n",
        "import torch\n",
        "import torch.nn as nn\n",
        "import torch.nn.functional as F\n",
        "from torch.nn import TransformerEncoder, TransformerEncoderLayer\n",
        "class PositionalEncoding(nn.Module):\n",
        "\n",
        "    def __init__(self, d_model, dropout=0.1, max_len=1000):\n",
        "        super(PositionalEncoding, self).__init__()\n",
        "        self.dropout = nn.Dropout(p=dropout)\n",
        "\n",
        "        pe = torch.zeros(max_len, d_model)\n",
        "        position = torch.arange(0, max_len, dtype=torch.float).unsqueeze(1)\n",
        "        div_term = torch.exp(torch.arange(0, d_model, 2).float() * (-math.log(10000.0) / d_model))\n",
        "        pe[:, 0::2] = torch.sin(position * div_term) #0::2 means starting with index 0, step = 2\n",
        "        pe[:, 1::2] = torch.cos(position * div_term)\n",
        "        pe = pe.unsqueeze(0).transpose(0, 1)\n",
        "        self.register_buffer('pe', pe)\n",
        "\n",
        "    def forward(self, x):\n",
        "        x = x + self.pe[:x.size(0), :]\n",
        "        return self.dropout(x)"
      ]
    },
    {
      "cell_type": "code",
      "execution_count": 40,
      "metadata": {
        "id": "2Gk7cefLhCuP"
      },
      "outputs": [],
      "source": [
        "class TransformerModel(nn.Module):\n",
        "\n",
        "    def __init__(self, vocabsize, modeldim, nhead, nhid, nlayers):\n",
        "        super(TransformerModel, self).__init__()\n",
        "        self.pos_encoder = PositionalEncoding(modeldim)\n",
        "        encoder_layers = TransformerEncoderLayer(modeldim, nhead, nhid, batch_first=True)\n",
        "        self.transformer_encoder = TransformerEncoder(encoder_layers, nlayers, norm=nn.LayerNorm(nhid))\n",
        "        self.encoder = nn.Embedding(vocabsize, modeldim)\n",
        "        self.modeldim = modeldim\n",
        "\n",
        "    def forward(self, claims):\n",
        "        _mask = claims == 1\n",
        "        claims_position = self.encoder(claims)\n",
        "        claims_position = self.pos_encoder(claims_position)\n",
        "        encoded = self.transformer_encoder(claims_position, src_key_padding_mask = _mask)\n",
        "        return encoded"
      ]
    },
    {
      "cell_type": "code",
      "execution_count": 41,
      "metadata": {
        "colab": {
          "base_uri": "https://localhost:8080/"
        },
        "id": "kzeixXHLhCuP",
        "outputId": "e7b74243-1548-4d2b-fc96-6eb939b9f698"
      },
      "outputs": [
        {
          "data": {
            "text/plain": [
              "TransformerModel(\n",
              "  (pos_encoder): PositionalEncoding(\n",
              "    (dropout): Dropout(p=0.1, inplace=False)\n",
              "  )\n",
              "  (transformer_encoder): TransformerEncoder(\n",
              "    (layers): ModuleList(\n",
              "      (0-5): 6 x TransformerEncoderLayer(\n",
              "        (self_attn): MultiheadAttention(\n",
              "          (out_proj): NonDynamicallyQuantizableLinear(in_features=1024, out_features=1024, bias=True)\n",
              "        )\n",
              "        (linear1): Linear(in_features=1024, out_features=1024, bias=True)\n",
              "        (dropout): Dropout(p=0.1, inplace=False)\n",
              "        (linear2): Linear(in_features=1024, out_features=1024, bias=True)\n",
              "        (norm1): LayerNorm((1024,), eps=1e-05, elementwise_affine=True)\n",
              "        (norm2): LayerNorm((1024,), eps=1e-05, elementwise_affine=True)\n",
              "        (dropout1): Dropout(p=0.1, inplace=False)\n",
              "        (dropout2): Dropout(p=0.1, inplace=False)\n",
              "      )\n",
              "    )\n",
              "    (norm): LayerNorm((1024,), eps=1e-05, elementwise_affine=True)\n",
              "  )\n",
              "  (encoder): Embedding(53039, 1024)\n",
              ")"
            ]
          },
          "execution_count": 41,
          "metadata": {},
          "output_type": "execute_result"
        }
      ],
      "source": [
        "trans_encoder = TransformerModel(vocabsize=len(vocab), modeldim=1024, nhead=8, nhid=1024, nlayers=6)\n",
        "torch.cuda.empty_cache()\n",
        "trans_encoder.to(device)"
      ]
    },
    {
      "cell_type": "markdown",
      "metadata": {
        "id": "c_zjbKd_hCuP"
      },
      "source": [
        "2.2. Classification Model"
      ]
    },
    {
      "cell_type": "code",
      "execution_count": 46,
      "metadata": {
        "id": "GR3RaZ3JhCuP"
      },
      "outputs": [],
      "source": [
        "class CLS(nn.Module):\n",
        "    def __init__(self, vocabsize, modeldim, nhead, nhid, nlayers, output_size):\n",
        "        super(CLS, self).__init__()\n",
        "        self.pos_encoder = PositionalEncoding(modeldim)\n",
        "        encoder_layers = TransformerEncoderLayer(modeldim, nhead, nhid, batch_first=True)\n",
        "        self.transformer_encoder = TransformerEncoder(encoder_layers, nlayers, norm=nn.LayerNorm(nhid))\n",
        "        self.encoder = nn.Embedding(vocabsize, modeldim)\n",
        "        self.modeldim = modeldim\n",
        "        self.hidden_layer = nn.Linear(nhid, nhid // 2)\n",
        "        self.cls = nn.Linear(nhid // 2, output_size)\n",
        "        self.dropout = nn.Dropout(0.1)\n",
        "\n",
        "    def forward(self, claims):\n",
        "        _mask = claims == 1\n",
        "        claims_position = self.encoder(claims)\n",
        "        claims_position = self.pos_encoder(claims_position)\n",
        "        encoded = self.transformer_encoder(claims_position, src_key_padding_mask = _mask)\n",
        "        claims_cls = encoded[:, 0, :]\n",
        "        claims_hidden = F.tanh(self.hidden_layer(claims_cls))\n",
        "        self.dropout(claims_hidden)\n",
        "        result = self.cls(claims_hidden)\n",
        "        return result"
      ]
    },
    {
      "cell_type": "code",
      "execution_count": 47,
      "metadata": {
        "id": "6bUexZ3uhCuP"
      },
      "outputs": [],
      "source": [
        "class EarlyStopping:\n",
        "    def __init__(self, patience=3, min_change=0.01):\n",
        "        self.patience = patience\n",
        "        self.min_change = min_change\n",
        "        self.counter = 0\n",
        "        self.best_loss = None\n",
        "        self.early_stop = False\n",
        "\n",
        "    def __call__(self, val_loss):\n",
        "        if self.best_loss is None:\n",
        "            self.best_loss = val_loss\n",
        "        elif val_loss > self.best_loss - self.min_change:\n",
        "            self.counter += 1\n",
        "            if self.counter >= self.patience:\n",
        "                self.early_stop = True\n",
        "        else:\n",
        "            self.best_loss = val_loss\n",
        "            self.counter = 0"
      ]
    },
    {
      "cell_type": "markdown",
      "metadata": {
        "id": "EzGuzHPE87Ya"
      },
      "source": [
        "# 3.Testing and Evaluation\n",
        "(You can add as many code blocks and text blocks as you need. However, YOU SHOULD NOT MODIFY the section title)"
      ]
    },
    {
      "cell_type": "code",
      "execution_count": 42,
      "metadata": {
        "id": "zlS3ZvsahCuP"
      },
      "outputs": [],
      "source": [
        "# Evidence retrival\n",
        "\n",
        "from torch.utils.data import TensorDataset\n",
        "retrieval_num = 5\n",
        "candidate_num = 10\n",
        "\n",
        "\n",
        "def validate(claims_input, evidence_idx, to_local_index, relevent_evidence_id, correct_evidence_id, model):\n",
        "    # get evidence embeddings\n",
        "    model.eval()\n",
        "    batch_size = 1000\n",
        "    evidence_len = len(evidence_idx[0])\n",
        "    text_len = len(claims_input[0])\n",
        "\n",
        "    # obtain the query embedding\n",
        "    # query = torch.LongTensor(claims_input).view(-1, text_len).cuda()\n",
        "    query = torch.LongTensor(claims_input).view(-1, text_len).to(device)\n",
        "    query_embedding = model(query)\n",
        "    query_embedding = query_embedding[:, 0, :].detach()\n",
        "    query_embedding = F.normalize(query_embedding, p=2, dim=1).cpu()\n",
        "\n",
        "    evidence_embeddings = []\n",
        "\n",
        "    # batch by batch to get all evidence embedding, if do in once will overflow\n",
        "\n",
        "    dataset = TensorDataset(torch.LongTensor(evidence_idx))\n",
        "    data_loader = DataLoader(dataset, batch_size=batch_size, pin_memory=True, num_workers=0)\n",
        "    evidence_embeddings = []\n",
        "    for batch in data_loader:\n",
        "        # cur_evidence = batch[0].cuda()\n",
        "        cur_evidence = batch[0].to(device)\n",
        "        cur_embedding = model(cur_evidence)\n",
        "        # need to put in cpu to prevent tensors in different devices, all in gpu might overflow\n",
        "        cur_embedding = cur_embedding[:, 0, :].detach().cpu()\n",
        "        cur_embedding = F.normalize(cur_embedding, p=2, dim=1)\n",
        "        evidence_embeddings.append(cur_embedding)\n",
        "\n",
        "    del dataset, data_loader\n",
        "\n",
        "    # concat the list of tensors into tensors\n",
        "    evidence_embeddings = torch.cat(evidence_embeddings, dim=0)\n",
        "\n",
        "    scores = torch.mm(query_embedding, evidence_embeddings.t())\n",
        "    f = []\n",
        "\n",
        "    # from eval.py\n",
        "    for i in range(scores.size(0)):\n",
        "        local_indices = [to_local_index[idx] for idx in relevent_evidence_id[i][:candidate_num]]\n",
        "        candidates_score = torch.index_select(scores[i], 0, torch.LongTensor(local_indices))\n",
        "        topk = torch.argsort(candidates_score, descending = True).tolist()\n",
        "        selected = topk[:retrieval_num]\n",
        "\n",
        "        evidence_correct = 0\n",
        "        pred_evidences = [relevent_evidence_id[i][j] for j in selected]\n",
        "        for evidence_id in correct_evidence_id[i]:\n",
        "            if evidence_id in pred_evidences:\n",
        "                evidence_correct += 1\n",
        "        if evidence_correct > 0:\n",
        "            evidence_recall = float(evidence_correct) / len(correct_evidence_id[i])\n",
        "            evidence_precision = float(evidence_correct) / len(pred_evidences)\n",
        "            evidence_fscore = (2 * evidence_precision * evidence_recall) / (evidence_precision + evidence_recall)\n",
        "        else:\n",
        "            evidence_fscore = 0\n",
        "        f.append(evidence_fscore)\n",
        "\n",
        "    fscore = np.mean(f)\n",
        "    print(\"Evidence Retrieval F-score: %.3f\" % fscore)\n",
        "    model.train()\n",
        "    return fscore"
      ]
    },
    {
      "cell_type": "code",
      "execution_count": 43,
      "metadata": {
        "id": "wamhzNCQ6UhU"
      },
      "outputs": [],
      "source": [
        "def filter_useful_evidences(data, relative_evidence_id):\n",
        "  to_local_index = {}\n",
        "  count = 0\n",
        "  res = []\n",
        "  for i in range(len(relative_evidence_id)):\n",
        "    # select the top candidate_num\n",
        "    for j in range(candidate_num):\n",
        "      if relative_evidence_id[i][j] not in to_local_index:\n",
        "        res.append(data[relative_evidence_id[i][j]])\n",
        "        to_local_index[relative_evidence_id[i][j]] = count\n",
        "        count += 1\n",
        "  return res, to_local_index"
      ]
    },
    {
      "cell_type": "code",
      "execution_count": 44,
      "metadata": {
        "colab": {
          "base_uri": "https://localhost:8080/"
        },
        "id": "hzt7oae4hCuP",
        "outputId": "b1670384-dfef-4d4b-d2b3-a0c62fdde807",
        "scrolled": true
      },
      "outputs": [
        {
          "name": "stderr",
          "output_type": "stream",
          "text": [
            "\r  0%|          | 0/246 [00:00<?, ?it/s]/usr/local/lib/python3.10/dist-packages/torch/utils/data/dataloader.py:558: UserWarning: This DataLoader will create 5 worker processes in total. Our suggested max number of worker in current system is 2, which is smaller than what this DataLoader is going to create. Please be aware that excessive worker creation might get DataLoader running slow or even freeze, lower the worker number to avoid potential slowness/freeze if necessary.\n",
            "  warnings.warn(_create_warning_msg(\n",
            " 11%|█         | 26/246 [00:05<00:29,  7.36it/s]"
          ]
        },
        {
          "name": "stdout",
          "output_type": "stream",
          "text": [
            "epoch: 0, steps: 5, avg loss: 4.263636\n"
          ]
        },
        {
          "name": "stderr",
          "output_type": "stream",
          "text": [
            " 21%|██        | 51/246 [00:09<00:27,  7.15it/s]"
          ]
        },
        {
          "name": "stdout",
          "output_type": "stream",
          "text": [
            "epoch: 0, steps: 10, avg loss: 4.351270\n"
          ]
        },
        {
          "name": "stderr",
          "output_type": "stream",
          "text": [
            " 31%|███       | 76/246 [00:12<00:23,  7.28it/s]"
          ]
        },
        {
          "name": "stdout",
          "output_type": "stream",
          "text": [
            "epoch: 0, steps: 15, avg loss: 4.249545\n"
          ]
        },
        {
          "name": "stderr",
          "output_type": "stream",
          "text": [
            " 40%|████      | 99/246 [00:15<00:20,  7.18it/s]"
          ]
        },
        {
          "name": "stdout",
          "output_type": "stream",
          "text": [
            "epoch: 0, steps: 20, avg loss: 4.203184\n",
            "\n",
            "Evaluate:\n",
            "\n",
            "Evidence Retrieval F-score: 0.069\n"
          ]
        },
        {
          "name": "stderr",
          "output_type": "stream",
          "text": [
            "\r 41%|████      | 100/246 [00:44<20:55,  8.60s/it]"
          ]
        },
        {
          "name": "stdout",
          "output_type": "stream",
          "text": [
            "best f-score: 0.06900639043496189\n"
          ]
        },
        {
          "name": "stderr",
          "output_type": "stream",
          "text": [
            " 51%|█████     | 126/246 [00:47<00:16,  7.13it/s]"
          ]
        },
        {
          "name": "stdout",
          "output_type": "stream",
          "text": [
            "epoch: 0, steps: 25, avg loss: 4.178691\n"
          ]
        },
        {
          "name": "stderr",
          "output_type": "stream",
          "text": [
            " 61%|██████▏   | 151/246 [00:51<00:13,  7.29it/s]"
          ]
        },
        {
          "name": "stdout",
          "output_type": "stream",
          "text": [
            "epoch: 0, steps: 30, avg loss: 4.164424\n"
          ]
        },
        {
          "name": "stderr",
          "output_type": "stream",
          "text": [
            " 72%|███████▏  | 176/246 [00:54<00:10,  6.91it/s]"
          ]
        },
        {
          "name": "stdout",
          "output_type": "stream",
          "text": [
            "epoch: 0, steps: 35, avg loss: 4.184547\n"
          ]
        },
        {
          "name": "stderr",
          "output_type": "stream",
          "text": [
            " 81%|████████  | 199/246 [00:58<00:08,  5.57it/s]"
          ]
        },
        {
          "name": "stdout",
          "output_type": "stream",
          "text": [
            "epoch: 0, steps: 40, avg loss: 4.116689\n",
            "\n",
            "Evaluate:\n",
            "\n"
          ]
        },
        {
          "name": "stderr",
          "output_type": "stream",
          "text": [
            " 82%|████████▏ | 201/246 [00:59<00:15,  2.83it/s]"
          ]
        },
        {
          "name": "stdout",
          "output_type": "stream",
          "text": [
            "Evidence Retrieval F-score: 0.068\n"
          ]
        },
        {
          "name": "stderr",
          "output_type": "stream",
          "text": [
            " 92%|█████████▏| 226/246 [01:03<00:03,  5.74it/s]"
          ]
        },
        {
          "name": "stdout",
          "output_type": "stream",
          "text": [
            "epoch: 0, steps: 45, avg loss: 4.162113\n"
          ]
        },
        {
          "name": "stderr",
          "output_type": "stream",
          "text": [
            "100%|██████████| 246/246 [01:07<00:00,  3.65it/s]\n",
            "  2%|▏         | 5/246 [00:01<00:54,  4.45it/s]"
          ]
        },
        {
          "name": "stdout",
          "output_type": "stream",
          "text": [
            "epoch: 1, steps: 1, avg loss: 4.022460\n"
          ]
        },
        {
          "name": "stderr",
          "output_type": "stream",
          "text": [
            " 12%|█▏        | 30/246 [00:05<00:31,  6.90it/s]"
          ]
        },
        {
          "name": "stdout",
          "output_type": "stream",
          "text": [
            "epoch: 1, steps: 6, avg loss: 4.106402\n"
          ]
        },
        {
          "name": "stderr",
          "output_type": "stream",
          "text": [
            " 22%|██▏       | 53/246 [00:08<00:26,  7.19it/s]"
          ]
        },
        {
          "name": "stdout",
          "output_type": "stream",
          "text": [
            "epoch: 1, steps: 11, avg loss: 4.108038\n",
            "\n",
            "Evaluate:\n",
            "\n"
          ]
        },
        {
          "name": "stderr",
          "output_type": "stream",
          "text": [
            " 22%|██▏       | 55/246 [00:09<00:58,  3.25it/s]"
          ]
        },
        {
          "name": "stdout",
          "output_type": "stream",
          "text": [
            "Evidence Retrieval F-score: 0.065\n"
          ]
        },
        {
          "name": "stderr",
          "output_type": "stream",
          "text": [
            " 33%|███▎      | 80/246 [00:13<00:23,  7.09it/s]"
          ]
        },
        {
          "name": "stdout",
          "output_type": "stream",
          "text": [
            "epoch: 1, steps: 16, avg loss: 4.042874\n"
          ]
        },
        {
          "name": "stderr",
          "output_type": "stream",
          "text": [
            " 43%|████▎     | 105/246 [00:16<00:20,  6.90it/s]"
          ]
        },
        {
          "name": "stdout",
          "output_type": "stream",
          "text": [
            "epoch: 1, steps: 21, avg loss: 4.132701\n"
          ]
        },
        {
          "name": "stderr",
          "output_type": "stream",
          "text": [
            " 53%|█████▎    | 130/246 [00:20<00:17,  6.71it/s]"
          ]
        },
        {
          "name": "stdout",
          "output_type": "stream",
          "text": [
            "epoch: 1, steps: 26, avg loss: 4.078761\n"
          ]
        },
        {
          "name": "stderr",
          "output_type": "stream",
          "text": [
            " 62%|██████▏   | 153/246 [00:23<00:13,  6.98it/s]"
          ]
        },
        {
          "name": "stdout",
          "output_type": "stream",
          "text": [
            "epoch: 1, steps: 31, avg loss: 4.076507\n",
            "\n",
            "Evaluate:\n",
            "\n"
          ]
        },
        {
          "name": "stderr",
          "output_type": "stream",
          "text": [
            " 63%|██████▎   | 155/246 [00:24<00:28,  3.23it/s]"
          ]
        },
        {
          "name": "stdout",
          "output_type": "stream",
          "text": [
            "Evidence Retrieval F-score: 0.066\n"
          ]
        },
        {
          "name": "stderr",
          "output_type": "stream",
          "text": [
            " 73%|███████▎  | 180/246 [00:28<00:09,  7.14it/s]"
          ]
        },
        {
          "name": "stdout",
          "output_type": "stream",
          "text": [
            "epoch: 1, steps: 36, avg loss: 4.117926\n"
          ]
        },
        {
          "name": "stderr",
          "output_type": "stream",
          "text": [
            " 83%|████████▎ | 205/246 [00:32<00:05,  6.97it/s]"
          ]
        },
        {
          "name": "stdout",
          "output_type": "stream",
          "text": [
            "epoch: 1, steps: 41, avg loss: 4.090560\n"
          ]
        },
        {
          "name": "stderr",
          "output_type": "stream",
          "text": [
            " 93%|█████████▎| 230/246 [00:35<00:02,  6.70it/s]"
          ]
        },
        {
          "name": "stdout",
          "output_type": "stream",
          "text": [
            "epoch: 1, steps: 46, avg loss: 4.064545\n"
          ]
        },
        {
          "name": "stderr",
          "output_type": "stream",
          "text": [
            "100%|██████████| 246/246 [00:38<00:00,  6.39it/s]\n"
          ]
        }
      ],
      "source": [
        "#  Evidence retrival training\n",
        "import random\n",
        "import torch.optim as optim\n",
        "import os\n",
        "from tqdm import tqdm\n",
        "import numpy as np\n",
        "from statistics import mean\n",
        "\n",
        "lr = 0.0005\n",
        "optimizer = torch.optim.SGD(trans_encoder.parameters(), lr=lr)\n",
        "scheduler = torch.optim.lr_scheduler.StepLR(optimizer, 1.0, gamma=0.95)\n",
        "\n",
        "all_loss = []\n",
        "all_step = []\n",
        "step_accu = 0\n",
        "steps = 0\n",
        "\n",
        "torch.manual_seed(7)\n",
        "torch.cuda.manual_seed_all(7)\n",
        "random.seed(7)\n",
        "\n",
        "# parameter to contraol the temp status printout and model performance evaluation\n",
        "count = 0\n",
        "total_steps = 0\n",
        "step_length = 5\n",
        "report_freq = 5\n",
        "eval_interval = 20\n",
        "\n",
        "current_dir = os.getcwd()\n",
        "save_path = os.path.join(current_dir, \"best_model.bin\")\n",
        "\n",
        "trans_encoder.train()\n",
        "avg_loss = 0\n",
        "optimizer.zero_grad()\n",
        "maximum_f_score = 0\n",
        "\n",
        "for epoch in range(2):\n",
        "    step_accu += steps\n",
        "    steps = 0\n",
        "\n",
        "    for (i, batch) in enumerate(tqdm(dataloader)):\n",
        "\n",
        "        count += 1\n",
        "    # forward pass\n",
        "        # claim_embeddings = trans_encoder(batch[\"claims\"].cuda())\n",
        "        # evidence_embeddings = trans_encoder(batch[\"evidences\"].cuda())\n",
        "        claim_embeddings = trans_encoder(batch[\"claims\"].to(device))\n",
        "        evidence_embeddings = trans_encoder(batch[\"evidences\"].to(device))\n",
        "\n",
        "        # reduce dimension from batch size * sentence len * embedding dimesion to batch size *  embedding by considering the first word\n",
        "        # since first word is the <cls> which have no other meaning, after training can accumuminate information in it, reduce the amount of calcualtion, also reduce the accuracy\n",
        "        claim_embeddings = claim_embeddings[:, 0, :]\n",
        "        evidence_embeddings = evidence_embeddings[:, 0, :]\n",
        "\n",
        "        # L2 normalization for every row\n",
        "        claim_embeddings = F.normalize(claim_embeddings, p=2, dim=1)\n",
        "        evidence_embeddings = F.normalize(evidence_embeddings, p=2, dim=1)\n",
        "\n",
        "        # calculate similarity by dot product\n",
        "        similarity = torch.mm(claim_embeddings, evidence_embeddings.t())\n",
        "\n",
        "        scores = - F.log_softmax(similarity / 0.1, dim=1)\n",
        "        scores_list = scores.tolist()\n",
        "    # backward pass\n",
        "        loss = []\n",
        "        for idx, correct_id in enumerate(batch[\"correct_evidences_inner_id\"]):\n",
        "            # correct_id = torch.LongTensor(correct_id).cuda()\n",
        "            correct_id = torch.LongTensor(correct_id).to(device)\n",
        "            # calculate the average score for each correct evidence in each claim\n",
        "            cur_loss = torch.mean(torch.index_select(scores[idx], 0, correct_id))\n",
        "            loss.append(cur_loss)\n",
        "        # stack the loss tensor then calculate mean of average loss, since they might have diffenent dimension\n",
        "        loss = torch.stack(loss).mean()\n",
        "        loss = loss / step_length\n",
        "        loss.backward()\n",
        "        avg_loss += loss.item()\n",
        "        optimizer.step()\n",
        "        optimizer.zero_grad()\n",
        "\n",
        "        if count == step_length:\n",
        "            count = 0\n",
        "            steps += 1\n",
        "            total_steps += 1\n",
        "\n",
        "        if total_steps % report_freq == 0 and count == 0:\n",
        "            print(\"epoch: %d, steps: %d, avg loss: %.6f\" % (epoch, steps, avg_loss / report_freq))\n",
        "            all_step.append(step_accu + steps)\n",
        "            all_loss.append(avg_loss/ report_freq)\n",
        "            avg_loss = 0\n",
        "        del loss, similarity, claim_embeddings, evidence_embeddings\n",
        "\n",
        "        # test current model with dev dataset\n",
        "        if total_steps % eval_interval == 0 and count == 0:\n",
        "            print(\"\\nEvaluate:\\n\")\n",
        "            select_evidences, to_local_index = filter_useful_evidences(evidence_input, dev_claims_relevent_evidence_id)\n",
        "            f_score = validate(dev_input, select_evidences, to_local_index, dev_claims_relevent_evidence_id, dev_claims_evidence_id, trans_encoder)\n",
        "            if f_score > maximum_f_score:\n",
        "                maximum_f_score = f_score\n",
        "                torch.save(trans_encoder.state_dict(), save_path)\n",
        "                print(\"best f-score:\", f_score)"
      ]
    },
    {
      "cell_type": "code",
      "execution_count": 45,
      "metadata": {
        "colab": {
          "base_uri": "https://localhost:8080/",
          "height": 489
        },
        "id": "iy7ErDTjhCuP",
        "outputId": "dc731c2d-f581-4c86-ac1f-299a91395475"
      },
      "outputs": [
        {
          "data": {
            "text/plain": [
              "Text(0, 0.5, 'average loss')"
            ]
          },
          "execution_count": 45,
          "metadata": {},
          "output_type": "execute_result"
        },
        {
          "data": {
            "image/png": "[encoded data removed]",
            "text/plain": [
              "<Figure size 640x480 with 1 Axes>"
            ]
          },
          "metadata": {},
          "output_type": "display_data"
        }
      ],
      "source": [
        "import matplotlib.pyplot as plt\n",
        "plt.plot(all_step, all_loss)\n",
        "plt.title('Change in average loss during training')\n",
        "plt.xlabel('steps')\n",
        "plt.ylabel('average loss')"
      ]
    },
    {
      "cell_type": "code",
      "execution_count": 48,
      "metadata": {
        "id": "CCChpBmIhCuP"
      },
      "outputs": [],
      "source": [
        "# Classification\n",
        "def train(model, data_loader, optimizer, criterion):\n",
        "    model.train()\n",
        "    total_loss = 0\n",
        "    for batch in tqdm(data_loader, desc=\"Training\"):\n",
        "        optimizer.zero_grad()\n",
        "        input_ids = batch['queries'].to(device)\n",
        "        labels = batch['labels'].to(device)\n",
        "        outputs = model(input_ids)\n",
        "        loss = criterion(outputs,labels)\n",
        "        loss.backward()\n",
        "        optimizer.step()\n",
        "        total_loss += loss.item()\n",
        "    return total_loss / len(data_loader)\n",
        "\n",
        "def evaluate(model, data_loader, criterion):\n",
        "    model.eval()\n",
        "    total_loss = 0\n",
        "    total_correct = 0\n",
        "    with torch.no_grad():\n",
        "        for batch in tqdm(data_loader, desc=\"Evaluating\"):\n",
        "            input_ids = batch['queries'].to(device)\n",
        "            labels = batch['labels'].to(device)\n",
        "            outputs = model(input_ids)\n",
        "            loss = criterion(outputs,labels)\n",
        "            total_loss += loss.item()\n",
        "            preds = outputs.argmax(dim=-1)  # Directly call argmax on outputs\n",
        "            total_correct += (preds == labels).sum().item()\n",
        "    avg_loss = total_loss / len(data_loader)\n",
        "    accuracy = total_correct / len(data_loader.dataset)\n",
        "    return avg_loss, accuracy"
      ]
    },
    {
      "cell_type": "code",
      "execution_count": 57,
      "metadata": {
        "id": "GUhG6lWAhCuP"
      },
      "outputs": [],
      "source": [
        "# Classification\n",
        "from sklearn.model_selection import KFold\n",
        "from torch.utils.data import DataLoader, Subset\n",
        "def cross_validate_model(model, optimizer, criterion, dataset, num_splits=5, batch_size=32, num_epochs=4):\n",
        "    kf = KFold(n_splits=num_splits, shuffle=True, random_state=42)\n",
        "    results = []\n",
        "    best_model = None\n",
        "    best_accuracy = 0.0\n",
        "    device = torch.device(\"cuda\" if torch.cuda.is_available() else \"cpu\")\n",
        "    stop = False\n",
        "\n",
        "    for fold, (train_idx, val_idx) in enumerate(kf.split(dataset)):\n",
        "        if stop:\n",
        "            break\n",
        "\n",
        "        print(f\"Folding {fold+1}/{num_splits}\")\n",
        "        train_subset = Subset(dataset, train_idx)\n",
        "        val_subset = Subset(dataset, val_idx)\n",
        "\n",
        "        train_loader = DataLoader(train_subset, batch_size=batch_size, shuffle=True, collate_fn=collate_batch_CLS)\n",
        "        valid_loader = DataLoader(val_subset, batch_size=batch_size, shuffle=False, collate_fn=collate_batch_CLS)\n",
        "        early_stopping = EarlyStopping(patience=3, min_change=0.001)\n",
        "        best_fold_model = None\n",
        "        best_fold_accuracy = 0.0\n",
        "\n",
        "        for epoch in range(num_epochs):\n",
        "            train_loss = train(model, train_loader, optimizer, criterion)\n",
        "            eval_loss, eval_accuracy = evaluate(model, valid_loader, criterion)\n",
        "            print(f'Epoch {epoch+1}, Train Loss: {train_loss}, Validation Loss: {eval_loss}, Accuracy: {eval_accuracy}')\n",
        "            dev_loader = DataLoader(dev_dataset_CLS, batch_size=10, shuffle=True, collate_fn=collate_batch_CLS)\n",
        "            dev_loss, dev_accuracy = evaluate(model, dev_loader, criterion)\n",
        "            print(f\"dev_accuray is {dev_accuracy}\")\n",
        "\n",
        "            if dev_accuracy > 0.60:\n",
        "                print(f\"Stopping early: dev_accuracy = {dev_accuracy} > 0.6\")\n",
        "                stop = True\n",
        "                break\n",
        "\n",
        "            if eval_accuracy > best_fold_accuracy:\n",
        "                best_fold_accuracy = eval_accuracy\n",
        "\n",
        "            early_stopping(eval_loss)\n",
        "            if early_stopping.early_stop:\n",
        "                print(\"Early stopping\")\n",
        "                break\n",
        "\n",
        "        results.append((eval_loss, eval_accuracy))\n",
        "        print(f\"Validation Loss: {eval_loss:.4f}, Accuracy: {eval_accuracy:.4f}\")\n",
        "\n",
        "        if best_fold_accuracy > best_accuracy:\n",
        "            best_accuracy = best_fold_accuracy\n",
        "\n",
        "    avg_loss = sum([x[0] for x in results]) / num_splits\n",
        "    avg_accuracy = sum([x[1] for x in results]) / num_splits\n",
        "\n",
        "    return avg_loss, avg_accuracy"
      ]
    },
    {
      "cell_type": "code",
      "execution_count": 50,
      "metadata": {
        "id": "8x-H1nQKhCuQ"
      },
      "outputs": [],
      "source": [
        "train_dataset_CLS = TrainDataset(train_input_cls,train_claims_evidence_id,train_claims_label)\n",
        "dev_dataset_CLS = TrainDataset(dev_input_cls, dev_claims_evidence_id, dev_claims_label)"
      ]
    },
    {
      "cell_type": "code",
      "execution_count": 56,
      "metadata": {
        "id": "nowLpii7hCuQ"
      },
      "outputs": [],
      "source": [
        "cls_model = CLS(vocabsize=len(vocab_cls), modeldim=512, nhead=8, nhid=512, nlayers=6, output_size=4)\n",
        "cls_model.to(device)\n",
        "optimizer = torch.optim.Adam(cls_model.parameters(), lr=0.00005)\n",
        "criterion = nn.CrossEntropyLoss()"
      ]
    },
    {
      "cell_type": "code",
      "execution_count": 58,
      "metadata": {
        "colab": {
          "base_uri": "https://localhost:8080/"
        },
        "id": "ITrcI1VIhCuQ",
        "outputId": "0ec283a2-f5f1-4772-c7bb-e28b59f3d213",
        "scrolled": true
      },
      "outputs": [
        {
          "name": "stdout",
          "output_type": "stream",
          "text": [
            "Folding 1/5\n"
          ]
        },
        {
          "name": "stderr",
          "output_type": "stream",
          "text": [
            "Training: 100%|██████████| 31/31 [00:08<00:00,  3.53it/s]\n",
            "Evaluating: 100%|██████████| 8/8 [00:00<00:00, 13.27it/s]\n"
          ]
        },
        {
          "name": "stdout",
          "output_type": "stream",
          "text": [
            "Epoch 1, Train Loss: 1.291153738575597, Validation Loss: 1.2599556893110275, Accuracy: 0.45934959349593496\n"
          ]
        },
        {
          "name": "stderr",
          "output_type": "stream",
          "text": [
            "Evaluating: 100%|██████████| 16/16 [00:00<00:00, 39.80it/s]\n"
          ]
        },
        {
          "name": "stdout",
          "output_type": "stream",
          "text": [
            "dev_accuray is 0.44805194805194803\n"
          ]
        },
        {
          "name": "stderr",
          "output_type": "stream",
          "text": [
            "Training: 100%|██████████| 31/31 [00:08<00:00,  3.53it/s]\n",
            "Evaluating: 100%|██████████| 8/8 [00:00<00:00, 12.83it/s]\n"
          ]
        },
        {
          "name": "stdout",
          "output_type": "stream",
          "text": [
            "Epoch 2, Train Loss: 1.256526497102553, Validation Loss: 1.2522450238466263, Accuracy: 0.47560975609756095\n"
          ]
        },
        {
          "name": "stderr",
          "output_type": "stream",
          "text": [
            "Evaluating: 100%|██████████| 16/16 [00:00<00:00, 39.90it/s]\n"
          ]
        },
        {
          "name": "stdout",
          "output_type": "stream",
          "text": [
            "dev_accuray is 0.44805194805194803\n"
          ]
        },
        {
          "name": "stderr",
          "output_type": "stream",
          "text": [
            "Training: 100%|██████████| 31/31 [00:08<00:00,  3.51it/s]\n",
            "Evaluating: 100%|██████████| 8/8 [00:00<00:00, 12.80it/s]\n"
          ]
        },
        {
          "name": "stdout",
          "output_type": "stream",
          "text": [
            "Epoch 3, Train Loss: 1.2520476195120043, Validation Loss: 1.2333583235740662, Accuracy: 0.45934959349593496\n"
          ]
        },
        {
          "name": "stderr",
          "output_type": "stream",
          "text": [
            "Evaluating: 100%|██████████| 16/16 [00:00<00:00, 38.63it/s]\n"
          ]
        },
        {
          "name": "stdout",
          "output_type": "stream",
          "text": [
            "dev_accuray is 0.44155844155844154\n"
          ]
        },
        {
          "name": "stderr",
          "output_type": "stream",
          "text": [
            "Training: 100%|██████████| 31/31 [00:08<00:00,  3.47it/s]\n",
            "Evaluating: 100%|██████████| 8/8 [00:00<00:00, 12.78it/s]\n"
          ]
        },
        {
          "name": "stdout",
          "output_type": "stream",
          "text": [
            "Epoch 4, Train Loss: 1.2298034410322867, Validation Loss: 1.1807177513837814, Accuracy: 0.5203252032520326\n"
          ]
        },
        {
          "name": "stderr",
          "output_type": "stream",
          "text": [
            "Evaluating: 100%|██████████| 16/16 [00:00<00:00, 38.72it/s]\n"
          ]
        },
        {
          "name": "stdout",
          "output_type": "stream",
          "text": [
            "dev_accuray is 0.538961038961039\n",
            "Validation Loss: 1.1807, Accuracy: 0.5203\n",
            "Folding 2/5\n"
          ]
        },
        {
          "name": "stderr",
          "output_type": "stream",
          "text": [
            "Training: 100%|██████████| 31/31 [00:08<00:00,  3.47it/s]\n",
            "Evaluating: 100%|██████████| 8/8 [00:00<00:00, 12.78it/s]\n"
          ]
        },
        {
          "name": "stdout",
          "output_type": "stream",
          "text": [
            "Epoch 1, Train Loss: 1.1469873170698843, Validation Loss: 1.1065945625305176, Accuracy: 0.5650406504065041\n"
          ]
        },
        {
          "name": "stderr",
          "output_type": "stream",
          "text": [
            "Evaluating: 100%|██████████| 16/16 [00:00<00:00, 39.11it/s]\n"
          ]
        },
        {
          "name": "stdout",
          "output_type": "stream",
          "text": [
            "dev_accuray is 0.45454545454545453\n"
          ]
        },
        {
          "name": "stderr",
          "output_type": "stream",
          "text": [
            "Training: 100%|██████████| 31/31 [00:08<00:00,  3.49it/s]\n",
            "Evaluating: 100%|██████████| 8/8 [00:00<00:00, 12.88it/s]\n"
          ]
        },
        {
          "name": "stdout",
          "output_type": "stream",
          "text": [
            "Epoch 2, Train Loss: 1.080128498615757, Validation Loss: 1.018149845302105, Accuracy: 0.5609756097560976\n"
          ]
        },
        {
          "name": "stderr",
          "output_type": "stream",
          "text": [
            "Evaluating: 100%|██████████| 16/16 [00:00<00:00, 38.06it/s]\n"
          ]
        },
        {
          "name": "stdout",
          "output_type": "stream",
          "text": [
            "dev_accuray is 0.5714285714285714\n"
          ]
        },
        {
          "name": "stderr",
          "output_type": "stream",
          "text": [
            "Training: 100%|██████████| 31/31 [00:08<00:00,  3.51it/s]\n",
            "Evaluating: 100%|██████████| 8/8 [00:00<00:00, 12.92it/s]\n"
          ]
        },
        {
          "name": "stdout",
          "output_type": "stream",
          "text": [
            "Epoch 3, Train Loss: 1.0521365461810943, Validation Loss: 1.102496363222599, Accuracy: 0.5284552845528455\n"
          ]
        },
        {
          "name": "stderr",
          "output_type": "stream",
          "text": [
            "Evaluating: 100%|██████████| 16/16 [00:00<00:00, 38.82it/s]\n"
          ]
        },
        {
          "name": "stdout",
          "output_type": "stream",
          "text": [
            "dev_accuray is 0.5454545454545454\n"
          ]
        },
        {
          "name": "stderr",
          "output_type": "stream",
          "text": [
            "Training: 100%|██████████| 31/31 [00:08<00:00,  3.52it/s]\n",
            "Evaluating: 100%|██████████| 8/8 [00:00<00:00, 13.07it/s]\n"
          ]
        },
        {
          "name": "stdout",
          "output_type": "stream",
          "text": [
            "Epoch 4, Train Loss: 1.0595458688274506, Validation Loss: 1.1710958182811737, Accuracy: 0.45121951219512196\n"
          ]
        },
        {
          "name": "stderr",
          "output_type": "stream",
          "text": [
            "Evaluating: 100%|██████████| 16/16 [00:00<00:00, 39.89it/s]\n"
          ]
        },
        {
          "name": "stdout",
          "output_type": "stream",
          "text": [
            "dev_accuray is 0.5064935064935064\n",
            "Validation Loss: 1.1711, Accuracy: 0.4512\n",
            "Folding 3/5\n"
          ]
        },
        {
          "name": "stderr",
          "output_type": "stream",
          "text": [
            "Training: 100%|██████████| 31/31 [00:08<00:00,  3.53it/s]\n",
            "Evaluating: 100%|██████████| 8/8 [00:00<00:00, 12.97it/s]\n"
          ]
        },
        {
          "name": "stdout",
          "output_type": "stream",
          "text": [
            "Epoch 1, Train Loss: 1.03174041932629, Validation Loss: 1.0470609590411186, Accuracy: 0.5609756097560976\n"
          ]
        },
        {
          "name": "stderr",
          "output_type": "stream",
          "text": [
            "Evaluating: 100%|██████████| 16/16 [00:00<00:00, 39.31it/s]\n"
          ]
        },
        {
          "name": "stdout",
          "output_type": "stream",
          "text": [
            "dev_accuray is 0.5714285714285714\n"
          ]
        },
        {
          "name": "stderr",
          "output_type": "stream",
          "text": [
            "Training: 100%|██████████| 31/31 [00:08<00:00,  3.53it/s]\n",
            "Evaluating: 100%|██████████| 8/8 [00:00<00:00, 12.73it/s]\n"
          ]
        },
        {
          "name": "stdout",
          "output_type": "stream",
          "text": [
            "Epoch 2, Train Loss: 1.014559515060917, Validation Loss: 0.982265017926693, Accuracy: 0.5934959349593496\n"
          ]
        },
        {
          "name": "stderr",
          "output_type": "stream",
          "text": [
            "Evaluating: 100%|██████████| 16/16 [00:00<00:00, 38.80it/s]\n"
          ]
        },
        {
          "name": "stdout",
          "output_type": "stream",
          "text": [
            "dev_accuray is 0.5454545454545454\n"
          ]
        },
        {
          "name": "stderr",
          "output_type": "stream",
          "text": [
            "Training: 100%|██████████| 31/31 [00:08<00:00,  3.52it/s]\n",
            "Evaluating: 100%|██████████| 8/8 [00:00<00:00, 13.17it/s]\n"
          ]
        },
        {
          "name": "stdout",
          "output_type": "stream",
          "text": [
            "Epoch 3, Train Loss: 0.9747637414163158, Validation Loss: 1.0404684096574783, Accuracy: 0.573170731707317\n"
          ]
        },
        {
          "name": "stderr",
          "output_type": "stream",
          "text": [
            "Evaluating: 100%|██████████| 16/16 [00:00<00:00, 39.47it/s]\n"
          ]
        },
        {
          "name": "stdout",
          "output_type": "stream",
          "text": [
            "dev_accuray is 0.551948051948052\n"
          ]
        },
        {
          "name": "stderr",
          "output_type": "stream",
          "text": [
            "Training: 100%|██████████| 31/31 [00:08<00:00,  3.50it/s]\n",
            "Evaluating: 100%|██████████| 8/8 [00:00<00:00, 12.84it/s]\n"
          ]
        },
        {
          "name": "stdout",
          "output_type": "stream",
          "text": [
            "Epoch 4, Train Loss: 0.9887466642164415, Validation Loss: 0.9276233240962029, Accuracy: 0.6056910569105691\n"
          ]
        },
        {
          "name": "stderr",
          "output_type": "stream",
          "text": [
            "Evaluating: 100%|██████████| 16/16 [00:00<00:00, 39.33it/s]"
          ]
        },
        {
          "name": "stdout",
          "output_type": "stream",
          "text": [
            "dev_accuray is 0.6103896103896104\n",
            "Stopping early: dev_accuracy = 0.6103896103896104 > 0.6\n",
            "Validation Loss: 0.9276, Accuracy: 0.6057\n",
            "Average Validation Loss: 0.6559, Average Accuracy: 0.3154\n"
          ]
        },
        {
          "name": "stderr",
          "output_type": "stream",
          "text": [
            "\n"
          ]
        }
      ],
      "source": [
        "avg_loss, avg_accuracy = cross_validate_model(cls_model, optimizer, criterion, train_dataset_CLS)\n",
        "print(f'Average Validation Loss: {avg_loss:.4f}, Average Accuracy: {avg_accuracy:.4f}')"
      ]
    },
    {
      "cell_type": "code",
      "execution_count": 60,
      "metadata": {
        "colab": {
          "base_uri": "https://localhost:8080/"
        },
        "id": "efCwSl7GhCuQ",
        "outputId": "6bd45434-601c-4034-c59a-ae9d6c3cd0e6"
      },
      "outputs": [
        {
          "name": "stderr",
          "output_type": "stream",
          "text": [
            "Evaluating: 100%|██████████| 16/16 [00:00<00:00, 33.10it/s]"
          ]
        },
        {
          "name": "stdout",
          "output_type": "stream",
          "text": [
            "Development Loss: 0.9980, Accuracy: 0.6104\n"
          ]
        },
        {
          "name": "stderr",
          "output_type": "stream",
          "text": [
            "\n"
          ]
        }
      ],
      "source": [
        "dev_loader = DataLoader(dev_dataset_CLS, batch_size=10, shuffle=True, collate_fn=collate_batch_CLS)\n",
        "dev_loss, dev_accuracy = evaluate(cls_model, dev_loader, criterion)\n",
        "print(f'Development Loss: {dev_loss:.4f}, Accuracy: {dev_accuracy:.4f}')"
      ]
    },
    {
      "cell_type": "markdown",
      "metadata": {
        "id": "OMcCab4DhCuQ"
      },
      "source": [
        "Retrieval Modelc Prediction"
      ]
    },
    {
      "cell_type": "code",
      "execution_count": 61,
      "metadata": {
        "colab": {
          "base_uri": "https://localhost:8080/"
        },
        "id": "7eywFqkBhCuQ",
        "outputId": "e567aad7-4104-40b0-932a-81aa9bdf185c"
      },
      "outputs": [
        {
          "data": {
            "text/plain": [
              "TransformerModel(\n",
              "  (pos_encoder): PositionalEncoding(\n",
              "    (dropout): Dropout(p=0.1, inplace=False)\n",
              "  )\n",
              "  (transformer_encoder): TransformerEncoder(\n",
              "    (layers): ModuleList(\n",
              "      (0-5): 6 x TransformerEncoderLayer(\n",
              "        (self_attn): MultiheadAttention(\n",
              "          (out_proj): NonDynamicallyQuantizableLinear(in_features=1024, out_features=1024, bias=True)\n",
              "        )\n",
              "        (linear1): Linear(in_features=1024, out_features=1024, bias=True)\n",
              "        (dropout): Dropout(p=0.1, inplace=False)\n",
              "        (linear2): Linear(in_features=1024, out_features=1024, bias=True)\n",
              "        (norm1): LayerNorm((1024,), eps=1e-05, elementwise_affine=True)\n",
              "        (norm2): LayerNorm((1024,), eps=1e-05, elementwise_affine=True)\n",
              "        (dropout1): Dropout(p=0.1, inplace=False)\n",
              "        (dropout2): Dropout(p=0.1, inplace=False)\n",
              "      )\n",
              "    )\n",
              "    (norm): LayerNorm((1024,), eps=1e-05, elementwise_affine=True)\n",
              "  )\n",
              "  (encoder): Embedding(53039, 1024)\n",
              ")"
            ]
          },
          "execution_count": 61,
          "metadata": {},
          "output_type": "execute_result"
        }
      ],
      "source": [
        "# load the best performed model in dev dataset\n",
        "torch.cuda.empty_cache()\n",
        "trans_encoder.load_state_dict(torch.load(save_path))\n",
        "trans_encoder.to(device)\n",
        "trans_encoder.eval()"
      ]
    },
    {
      "cell_type": "code",
      "execution_count": 62,
      "metadata": {
        "id": "ylcr0YARhCuQ"
      },
      "outputs": [],
      "source": [
        "retrieval_num = 5\n",
        "candidate_num = 6\n",
        "\n",
        "def evidence_predicts(claims_input, relevent_evidence_id, evidences_id, model):\n",
        "    # obtain evidence embeddings\n",
        "    batch_size = 1000\n",
        "    select_evidences, to_local_index = filter_useful_evidences(evidence_input, relevent_evidence_id)\n",
        "    dataset = TensorDataset(torch.LongTensor(select_evidences))\n",
        "    data_loader = DataLoader(dataset, batch_size=batch_size, pin_memory=True, num_workers=0)\n",
        "    evidence_embeddings = []\n",
        "    for batch in data_loader:\n",
        "        # cur_evidence = batch[0].cuda()\n",
        "        cur_evidence = batch[0].to(device)\n",
        "        cur_embedding = trans_encoder(cur_evidence)\n",
        "        # need to put in cpu to prevent tensors in different devices, all in gpu might overflow\n",
        "        cur_embedding = cur_embedding[:, 0, :].detach().cpu()\n",
        "        cur_embedding = F.normalize(cur_embedding, p=2, dim=1)\n",
        "        evidence_embeddings.append(cur_embedding)\n",
        "\n",
        "    del dataset, data_loader\n",
        "\n",
        "    # concat the list of tensors into tensors\n",
        "    evidence_embeddings = torch.cat(evidence_embeddings, dim=0).t()\n",
        "\n",
        "    text_len = len(claims_input[0])\n",
        "    model.eval()\n",
        "\n",
        "    # query = torch.LongTensor(claims_input).view(-1, text_len).cuda()\n",
        "    query = torch.LongTensor(claims_input).view(-1, text_len).to(device)\n",
        "    query_embedding = model(query)\n",
        "    query_embedding = query_embedding[:, 0, :].detach()\n",
        "    query_embedding = F.normalize(query_embedding, p=2, dim=1).cpu()\n",
        "\n",
        "    scores = torch.mm(query_embedding, evidence_embeddings)\n",
        "    pred = []\n",
        "    for i in range(scores.size(0)):\n",
        "        local_indices = [to_local_index[idx] for idx in relevent_evidence_id[i][:candidate_num]]\n",
        "        candidates_score = torch.index_select(scores[i], 0, torch.LongTensor(local_indices))\n",
        "        topk = torch.argsort(candidates_score, descending = True).tolist()\n",
        "        selected = topk[:retrieval_num]\n",
        "\n",
        "        pred_evidences = [evidences_id[relevent_evidence_id[i][j]] for j in selected]\n",
        "        pred.append(pred_evidences)\n",
        "\n",
        "    return pred"
      ]
    },
    {
      "cell_type": "code",
      "execution_count": 63,
      "metadata": {
        "id": "lJyQdeAXhCuQ"
      },
      "outputs": [],
      "source": [
        "pred_test_evidence = evidence_predicts(test_input, test_claims_relevent_evidence_id, evidence_id, trans_encoder)"
      ]
    },
    {
      "cell_type": "code",
      "execution_count": 64,
      "metadata": {
        "id": "Qm7dJRswhCuQ"
      },
      "outputs": [],
      "source": [
        "i = 0\n",
        "for key, value in test_claims.items():\n",
        "    value[\"evidences\"] = pred_test_evidence[i]\n",
        "    i += 1\n",
        "json.dump(test_claims, open(\"test_claims.json\", \"w\"))"
      ]
    },
    {
      "cell_type": "markdown",
      "metadata": {
        "id": "O3kZAY2KhCuQ"
      },
      "source": [
        "Classification Model Predictions"
      ]
    },
    {
      "cell_type": "code",
      "execution_count": 65,
      "metadata": {
        "id": "6ZVeNYIH9IaL"
      },
      "outputs": [],
      "source": [
        "import json\n",
        "\n",
        "\n",
        "dir_path = 'test_claims.json'\n",
        "\n",
        "\n",
        "with open(dir_path, 'r') as file:\n",
        "    data = json.load(file)"
      ]
    },
    {
      "cell_type": "code",
      "execution_count": 66,
      "metadata": {
        "id": "XgIX5v8yhCuQ"
      },
      "outputs": [],
      "source": [
        "\n",
        "claims = []\n",
        "evidences = []\n",
        "\n",
        "\n",
        "for claim_id, claim_data in data.items():\n",
        "    claim_text = claim_data['claim_text']\n",
        "    evidence_ids = claim_data['evidences']\n",
        "\n",
        "\n",
        "    claims.append(claim_text)\n",
        "    evidences.append(evidence_ids)\n",
        "\n",
        "evidences = obtain_evidence_id(evidences)\n",
        "\n",
        "def collate_batch_cls(batch):\n",
        "    queries = []\n",
        "\n",
        "\n",
        "    for claim_texts, positive_evidences_id in batch:\n",
        "        # Add cls to the front of texts to denote start\n",
        "        temp_text = [vocab_cls[\"<cls>\"]]  # Assuming <cls> token is 2\n",
        "        temp_text.extend(claim_texts)\n",
        "\n",
        "        if len(positive_evidences_id) > 5:\n",
        "            for i in range(5):\n",
        "                temp_text.extend(evidence_input_cls[positive_evidences_id[i]])\n",
        "        else:\n",
        "            for i in positive_evidences_id:\n",
        "                temp_text.extend(evidence_input_cls[i])\n",
        "            # Add padding to make up 5 * evidence length\n",
        "            padding_needed = (5 - len(positive_evidences_id)) * padded_evidence_length_cls\n",
        "            temp_text.extend([vocab_cls[\"<pad>\"]] * padding_needed)\n",
        "\n",
        "\n",
        "        temp_text.extend([vocab_cls[\"<sep>\"]])  # Assuming <sep> token is 3\n",
        "\n",
        "        queries.append(temp_text)\n",
        "\n",
        "\n",
        "    # Pad sequences to the same length\n",
        "    max_length = max(len(q) for q in queries)\n",
        "    queries_padded = [q + [vocab_cls[\"<pad>\"]] * (max_length - len(q)) for q in queries]\n",
        "\n",
        "    batch_encoding = {}\n",
        "    batch_encoding[\"queries\"] = torch.LongTensor(queries_padded)\n",
        "\n",
        "    return batch_encoding\n",
        "\n",
        "\n",
        "class testDataset(Dataset):\n",
        "    def __init__(self, claims_text, positive_evidences_id):\n",
        "        self.claims_text = claims_text\n",
        "        self.positive_evidences_id = positive_evidences_id\n",
        "        self.text_length = len(claims_text[0])\n",
        "\n",
        "    def __len__(self):\n",
        "        return len(self.claims_text)\n",
        "\n",
        "    def __getitem__(self, idx):\n",
        "        return [self.claims_text[idx][:self.text_length], self.positive_evidences_id[idx]]\n",
        "\n",
        "test_dataset_CLS = testDataset(test_input_cls,evidences)\n",
        "test_loader = DataLoader(test_dataset_CLS, batch_size=5, shuffle=True, collate_fn=collate_batch_cls)\n"
      ]
    },
    {
      "cell_type": "code",
      "execution_count": 67,
      "metadata": {
        "colab": {
          "base_uri": "https://localhost:8080/"
        },
        "id": "yaq-QSWxhCuQ",
        "outputId": "4cd38905-b34c-4f71-9029-33893c1d62f0"
      },
      "outputs": [
        {
          "name": "stderr",
          "output_type": "stream",
          "text": [
            "Predicting: 100%|██████████| 31/31 [00:00<00:00, 61.49it/s]"
          ]
        },
        {
          "name": "stdout",
          "output_type": "stream",
          "text": [
            "Counter({0: 93, 2: 60})\n"
          ]
        },
        {
          "name": "stderr",
          "output_type": "stream",
          "text": [
            "\n"
          ]
        }
      ],
      "source": [
        "from collections import Counter\n",
        "def label_predict(loader, model):\n",
        "    model.to(device)\n",
        "    model.eval()\n",
        "    predictions = []\n",
        "\n",
        "    with torch.no_grad():\n",
        "        for batch in tqdm(loader, desc=\"Predicting\"):\n",
        "            queries = batch[\"queries\"].to(device)\n",
        "            outputs = model(queries)\n",
        "            preds = torch.argmax(outputs, dim=1).tolist()\n",
        "            predictions.extend(preds)\n",
        "\n",
        "    return predictions\n",
        "\n",
        "\n",
        "predictions = label_predict(test_loader, cls_model)\n",
        "print(Counter(predictions))"
      ]
    },
    {
      "cell_type": "code",
      "execution_count": 68,
      "metadata": {
        "id": "dCw59K8khCuR"
      },
      "outputs": [],
      "source": [
        "i = 0\n",
        "predictions = mapping_index(predictions)\n",
        "for key, value in test_claims.items():\n",
        "    value[\"claim_label\"] = predictions[i]\n",
        "    i+=1\n",
        "json.dump(test_claims, open(\"test_claims.json\", \"w\"))"
      ]
    },
    {
      "cell_type": "markdown",
      "metadata": {
        "id": "mefSOe8eTmGP"
      },
      "source": [
        "## Object Oriented Programming codes here\n",
        "\n",
        "*You can use multiple code snippets. Just add more if needed*"
      ]
    }
  ],
  "metadata": {
    "accelerator": "GPU",
    "colab": {
      "gpuType": "T4",
      "provenance": []
    },
    "kernelspec": {
      "display_name": "Python 3",
      "name": "python3"
    },
    "language_info": {
      "codemirror_mode": {
        "name": "ipython",
        "version": 3
      },
      "file_extension": ".py",
      "mimetype": "text/x-python",
      "name": "python",
      "nbconvert_exporter": "python",
      "pygments_lexer": "ipython3",
      "version": "3.8.10"
    }
  },
  "nbformat": 4,
  "nbformat_minor": 0
}
